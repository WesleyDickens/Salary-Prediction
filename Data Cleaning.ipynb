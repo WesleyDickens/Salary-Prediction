{
 "cells": [
  {
   "cell_type": "code",
   "execution_count": 1,
   "id": "429ccabb",
   "metadata": {},
   "outputs": [],
   "source": [
    "%run imports.py"
   ]
  },
  {
   "cell_type": "code",
   "execution_count": 2,
   "id": "95f0c567",
   "metadata": {},
   "outputs": [],
   "source": [
    "# Import relevant tables\n",
    "job_post = pd.read_csv('Data/job_postings.csv')\n",
    "job_skills = pd.read_csv('Data/job_skills.csv')\n",
    "skills_map = pd.read_csv('Data/skills.csv')\n",
    "job_industries = pd.read_csv('Data/job_industries.csv')\n",
    "industries_map = pd.read_csv('Data/industries.csv')"
   ]
  },
  {
   "cell_type": "code",
   "execution_count": 3,
   "id": "6607a4ee",
   "metadata": {},
   "outputs": [],
   "source": [
    "# Add skills and industries to job_post DF \n",
    "job_skills = job_skills.merge(skills_map)[['job_id','skill_name']]\n",
    "job_industries = job_industries.merge(industries_map)[['job_id','industry_name']]\n",
    "jobs = job_post.merge(job_skills).merge(job_industries)"
   ]
  },
  {
   "cell_type": "code",
   "execution_count": 4,
   "id": "ec3f09f9",
   "metadata": {},
   "outputs": [],
   "source": [
    "# Drop rows where all of the salary fields are Null and rows where the work type isn't full time\n",
    "salary_cols = ['max_salary','med_salary','min_salary']\n",
    "jobs_cleaned = jobs.dropna(subset=salary_cols, how='all')\n",
    "jobs_cleaned = jobs_cleaned[jobs_cleaned.formatted_work_type == 'Full-time']"
   ]
  },
  {
   "cell_type": "code",
   "execution_count": 5,
   "id": "48d86b80",
   "metadata": {},
   "outputs": [],
   "source": [
    "# Transform all salaries to be Yearly based on the pay period (Monthly is 12x and Hourly is 2080x)\n",
    "for column in salary_cols:\n",
    "    jobs_cleaned.loc[jobs_cleaned['pay_period'] == 'MONTHLY', column] = jobs_cleaned.loc[jobs_cleaned['pay_period'] == 'MONTHLY', column] * 12\n",
    "    jobs_cleaned.loc[jobs_cleaned['pay_period'] == 'HOURLY', column] = jobs_cleaned.loc[jobs_cleaned['pay_period'] == 'HOURLY', column] * 2080"
   ]
  },
  {
   "cell_type": "code",
   "execution_count": 6,
   "id": "62eeed37",
   "metadata": {},
   "outputs": [],
   "source": [
    "# Impute missing medians based on median = min+max/2\n",
    "impute_values = (jobs_cleaned['min_salary'] + jobs_cleaned['max_salary']) / 2\n",
    "\n",
    "jobs_cleaned.loc[jobs_cleaned['med_salary'].isna(), 'med_salary'] = impute_values"
   ]
  },
  {
   "cell_type": "code",
   "execution_count": 7,
   "id": "b4ed385d",
   "metadata": {},
   "outputs": [],
   "source": [
    "jobs_cleaned.to_csv('jobs_cleaned.csv')"
   ]
  },
  {
   "cell_type": "code",
   "execution_count": null,
   "id": "095b1035",
   "metadata": {},
   "outputs": [],
   "source": []
  }
 ],
 "metadata": {
  "kernelspec": {
   "display_name": "Python 3 (ipykernel)",
   "language": "python",
   "name": "python3"
  },
  "language_info": {
   "codemirror_mode": {
    "name": "ipython",
    "version": 3
   },
   "file_extension": ".py",
   "mimetype": "text/x-python",
   "name": "python",
   "nbconvert_exporter": "python",
   "pygments_lexer": "ipython3",
   "version": "3.11.5"
  }
 },
 "nbformat": 4,
 "nbformat_minor": 5
}
